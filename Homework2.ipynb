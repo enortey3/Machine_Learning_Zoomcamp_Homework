{
 "cells": [
  {
   "cell_type": "markdown",
   "id": "af2d0bf4-b346-41f1-bd29-f064a50cf0e9",
   "metadata": {},
   "source": [
    "### Preparing the Dataset"
   ]
  },
  {
   "cell_type": "code",
   "execution_count": 1,
   "id": "46aba5be-2b0f-43df-b127-b457a1635ba4",
   "metadata": {},
   "outputs": [],
   "source": [
    "import numpy as np\n",
    "import pandas as pd"
   ]
  },
  {
   "cell_type": "code",
   "execution_count": 4,
   "id": "28e4b42b-7084-40a6-9322-6e0a5a225d89",
   "metadata": {},
   "outputs": [
    {
     "data": {
      "text/html": [
       "<div>\n",
       "<style scoped>\n",
       "    .dataframe tbody tr th:only-of-type {\n",
       "        vertical-align: middle;\n",
       "    }\n",
       "\n",
       "    .dataframe tbody tr th {\n",
       "        vertical-align: top;\n",
       "    }\n",
       "\n",
       "    .dataframe thead th {\n",
       "        text-align: right;\n",
       "    }\n",
       "</style>\n",
       "<table border=\"1\" class=\"dataframe\">\n",
       "  <thead>\n",
       "    <tr style=\"text-align: right;\">\n",
       "      <th></th>\n",
       "      <th>engine_displacement</th>\n",
       "      <th>num_cylinders</th>\n",
       "      <th>horsepower</th>\n",
       "      <th>vehicle_weight</th>\n",
       "      <th>acceleration</th>\n",
       "      <th>model_year</th>\n",
       "      <th>origin</th>\n",
       "      <th>fuel_type</th>\n",
       "      <th>drivetrain</th>\n",
       "      <th>num_doors</th>\n",
       "      <th>fuel_efficiency_mpg</th>\n",
       "    </tr>\n",
       "  </thead>\n",
       "  <tbody>\n",
       "    <tr>\n",
       "      <th>0</th>\n",
       "      <td>170</td>\n",
       "      <td>3.0</td>\n",
       "      <td>159.0</td>\n",
       "      <td>3413.433759</td>\n",
       "      <td>17.7</td>\n",
       "      <td>2003</td>\n",
       "      <td>Europe</td>\n",
       "      <td>Gasoline</td>\n",
       "      <td>All-wheel drive</td>\n",
       "      <td>0.0</td>\n",
       "      <td>13.231729</td>\n",
       "    </tr>\n",
       "    <tr>\n",
       "      <th>1</th>\n",
       "      <td>130</td>\n",
       "      <td>5.0</td>\n",
       "      <td>97.0</td>\n",
       "      <td>3149.664934</td>\n",
       "      <td>17.8</td>\n",
       "      <td>2007</td>\n",
       "      <td>USA</td>\n",
       "      <td>Gasoline</td>\n",
       "      <td>Front-wheel drive</td>\n",
       "      <td>0.0</td>\n",
       "      <td>13.688217</td>\n",
       "    </tr>\n",
       "    <tr>\n",
       "      <th>2</th>\n",
       "      <td>170</td>\n",
       "      <td>NaN</td>\n",
       "      <td>78.0</td>\n",
       "      <td>3079.038997</td>\n",
       "      <td>15.1</td>\n",
       "      <td>2018</td>\n",
       "      <td>Europe</td>\n",
       "      <td>Gasoline</td>\n",
       "      <td>Front-wheel drive</td>\n",
       "      <td>0.0</td>\n",
       "      <td>14.246341</td>\n",
       "    </tr>\n",
       "    <tr>\n",
       "      <th>3</th>\n",
       "      <td>220</td>\n",
       "      <td>4.0</td>\n",
       "      <td>NaN</td>\n",
       "      <td>2542.392402</td>\n",
       "      <td>20.2</td>\n",
       "      <td>2009</td>\n",
       "      <td>USA</td>\n",
       "      <td>Diesel</td>\n",
       "      <td>All-wheel drive</td>\n",
       "      <td>2.0</td>\n",
       "      <td>16.912736</td>\n",
       "    </tr>\n",
       "    <tr>\n",
       "      <th>4</th>\n",
       "      <td>210</td>\n",
       "      <td>1.0</td>\n",
       "      <td>140.0</td>\n",
       "      <td>3460.870990</td>\n",
       "      <td>14.4</td>\n",
       "      <td>2009</td>\n",
       "      <td>Europe</td>\n",
       "      <td>Gasoline</td>\n",
       "      <td>All-wheel drive</td>\n",
       "      <td>2.0</td>\n",
       "      <td>12.488369</td>\n",
       "    </tr>\n",
       "  </tbody>\n",
       "</table>\n",
       "</div>"
      ],
      "text/plain": [
       "   engine_displacement  num_cylinders  horsepower  vehicle_weight  \\\n",
       "0                  170            3.0       159.0     3413.433759   \n",
       "1                  130            5.0        97.0     3149.664934   \n",
       "2                  170            NaN        78.0     3079.038997   \n",
       "3                  220            4.0         NaN     2542.392402   \n",
       "4                  210            1.0       140.0     3460.870990   \n",
       "\n",
       "   acceleration  model_year  origin fuel_type         drivetrain  num_doors  \\\n",
       "0          17.7        2003  Europe  Gasoline    All-wheel drive        0.0   \n",
       "1          17.8        2007     USA  Gasoline  Front-wheel drive        0.0   \n",
       "2          15.1        2018  Europe  Gasoline  Front-wheel drive        0.0   \n",
       "3          20.2        2009     USA    Diesel    All-wheel drive        2.0   \n",
       "4          14.4        2009  Europe  Gasoline    All-wheel drive        2.0   \n",
       "\n",
       "   fuel_efficiency_mpg  \n",
       "0            13.231729  \n",
       "1            13.688217  \n",
       "2            14.246341  \n",
       "3            16.912736  \n",
       "4            12.488369  "
      ]
     },
     "execution_count": 4,
     "metadata": {},
     "output_type": "execute_result"
    }
   ],
   "source": [
    "df=pd.read_csv(r'C:\\Users\\Owner\\Downloads\\car_fuel_efficiency.csv')\n",
    "df.head()"
   ]
  },
  {
   "cell_type": "code",
   "execution_count": 17,
   "id": "f3b9adb7-47f7-4379-914c-b776f983e365",
   "metadata": {},
   "outputs": [
    {
     "data": {
      "text/html": [
       "<div>\n",
       "<style scoped>\n",
       "    .dataframe tbody tr th:only-of-type {\n",
       "        vertical-align: middle;\n",
       "    }\n",
       "\n",
       "    .dataframe tbody tr th {\n",
       "        vertical-align: top;\n",
       "    }\n",
       "\n",
       "    .dataframe thead th {\n",
       "        text-align: right;\n",
       "    }\n",
       "</style>\n",
       "<table border=\"1\" class=\"dataframe\">\n",
       "  <thead>\n",
       "    <tr style=\"text-align: right;\">\n",
       "      <th></th>\n",
       "      <th>engine_displacement</th>\n",
       "      <th>horsepower</th>\n",
       "      <th>vehicle_weight</th>\n",
       "      <th>model_year</th>\n",
       "      <th>fuel_efficiency_mpg</th>\n",
       "    </tr>\n",
       "  </thead>\n",
       "  <tbody>\n",
       "    <tr>\n",
       "      <th>0</th>\n",
       "      <td>170</td>\n",
       "      <td>159.0</td>\n",
       "      <td>3413.433759</td>\n",
       "      <td>2003</td>\n",
       "      <td>13.231729</td>\n",
       "    </tr>\n",
       "    <tr>\n",
       "      <th>1</th>\n",
       "      <td>130</td>\n",
       "      <td>97.0</td>\n",
       "      <td>3149.664934</td>\n",
       "      <td>2007</td>\n",
       "      <td>13.688217</td>\n",
       "    </tr>\n",
       "    <tr>\n",
       "      <th>2</th>\n",
       "      <td>170</td>\n",
       "      <td>78.0</td>\n",
       "      <td>3079.038997</td>\n",
       "      <td>2018</td>\n",
       "      <td>14.246341</td>\n",
       "    </tr>\n",
       "    <tr>\n",
       "      <th>3</th>\n",
       "      <td>220</td>\n",
       "      <td>NaN</td>\n",
       "      <td>2542.392402</td>\n",
       "      <td>2009</td>\n",
       "      <td>16.912736</td>\n",
       "    </tr>\n",
       "    <tr>\n",
       "      <th>4</th>\n",
       "      <td>210</td>\n",
       "      <td>140.0</td>\n",
       "      <td>3460.870990</td>\n",
       "      <td>2009</td>\n",
       "      <td>12.488369</td>\n",
       "    </tr>\n",
       "  </tbody>\n",
       "</table>\n",
       "</div>"
      ],
      "text/plain": [
       "   engine_displacement  horsepower  vehicle_weight  model_year  \\\n",
       "0                  170       159.0     3413.433759        2003   \n",
       "1                  130        97.0     3149.664934        2007   \n",
       "2                  170        78.0     3079.038997        2018   \n",
       "3                  220         NaN     2542.392402        2009   \n",
       "4                  210       140.0     3460.870990        2009   \n",
       "\n",
       "   fuel_efficiency_mpg  \n",
       "0            13.231729  \n",
       "1            13.688217  \n",
       "2            14.246341  \n",
       "3            16.912736  \n",
       "4            12.488369  "
      ]
     },
     "execution_count": 17,
     "metadata": {},
     "output_type": "execute_result"
    }
   ],
   "source": [
    "selected_columns = [\n",
    "    'engine_displacement',\n",
    "    'horsepower',\n",
    "    'vehicle_weight',\n",
    "    'model_year',\n",
    "    'fuel_efficiency_mpg'\n",
    "]\n",
    "\n",
    "df_selected = df[selected_columns]\n",
    "df_selected.head()"
   ]
  },
  {
   "cell_type": "markdown",
   "id": "8bd7e1ac-3503-417b-a0f3-8853a9b958ad",
   "metadata": {},
   "source": [
    "### EDA"
   ]
  },
  {
   "cell_type": "code",
   "execution_count": 19,
   "id": "331caae3-fabb-4eeb-8153-3ecbf141656a",
   "metadata": {},
   "outputs": [],
   "source": [
    "import matplotlib.pyplot as plt\n",
    "import seaborn as sns\n",
    "\n",
    "%matplotlib inline"
   ]
  },
  {
   "cell_type": "code",
   "execution_count": 20,
   "id": "95e10faf-9854-4a38-9e8a-03b9d52bf1b6",
   "metadata": {},
   "outputs": [
    {
     "data": {
      "image/png": "[encoded data removed]",
      "text/plain": [
       "<Figure size 640x480 with 1 Axes>"
      ]
     },
     "metadata": {},
     "output_type": "display_data"
    }
   ],
   "source": [
    "sns.histplot(df[\"fuel_efficiency_mpg\"])\n",
    "\n",
    "plt.show()\n",
    "             "
   ]
  },
  {
   "cell_type": "markdown",
   "id": "a3581ea9-3b0d-4b2b-acb2-cd4bbe48c0bd",
   "metadata": {},
   "source": [
    "The shape of the graph of the **fuel_efficiency_mpg** variable is a bell (normally distributed). Hence, it does not have a long tail. "
   ]
  },
  {
   "cell_type": "markdown",
   "id": "2009f497-7a7b-4d2c-9913-1945ea5c8bdf",
   "metadata": {},
   "source": [
    "### Question 1"
   ]
  },
  {
   "cell_type": "code",
   "execution_count": 23,
   "id": "7888469f-6f79-483d-a1e7-7896423626a9",
   "metadata": {},
   "outputs": [
    {
     "data": {
      "text/plain": [
       "engine_displacement      0\n",
       "horsepower             708\n",
       "vehicle_weight           0\n",
       "model_year               0\n",
       "fuel_efficiency_mpg      0\n",
       "dtype: int64"
      ]
     },
     "execution_count": 23,
     "metadata": {},
     "output_type": "execute_result"
    }
   ],
   "source": [
    "df_selected.isnull().sum()"
   ]
  },
  {
   "cell_type": "markdown",
   "id": "469a352d-726d-49db-ac03-79058ecccccd",
   "metadata": {},
   "source": [
    "The **horsepower** column has missing vavlues."
   ]
  },
  {
   "cell_type": "markdown",
   "id": "e47f7dc9-c835-434b-aab8-b166513acb52",
   "metadata": {},
   "source": [
    "### Question 2"
   ]
  },
  {
   "cell_type": "code",
   "execution_count": 25,
   "id": "07c26f81-7f99-47f8-9d92-13b2f6de0e3c",
   "metadata": {},
   "outputs": [
    {
     "name": "stdout",
     "output_type": "stream",
     "text": [
      "The median of the horsepower is: 149.0\n"
     ]
    }
   ],
   "source": [
    "median_horsepower=df_selected.horsepower.median()\n",
    "\n",
    "print('The median of the horsepower is:', median_horsepower)"
   ]
  },
  {
   "cell_type": "markdown",
   "id": "bd331fde-2016-4aaf-98d8-165caca6ff16",
   "metadata": {},
   "source": [
    "### Prepare and split the dataset"
   ]
  },
  {
   "cell_type": "code",
   "execution_count": 39,
   "id": "e76bb27f-7fdd-4814-a674-ed04fb4ae280",
   "metadata": {},
   "outputs": [
    {
     "data": {
      "text/plain": [
       "array([ 483, 7506, 8795, ..., 5390,  860, 7270])"
      ]
     },
     "execution_count": 39,
     "metadata": {},
     "output_type": "execute_result"
    }
   ],
   "source": [
    "\n",
    "n=len(df_selected)\n",
    "idx=np.arange(n)\n",
    "\n",
    "np.random.shuffle(idx)\n",
    "\n",
    "np.random.seed(42)\n",
    "idx\n"
   ]
  },
  {
   "cell_type": "code",
   "execution_count": 40,
   "id": "917c7a51-922b-45e7-a44f-a088010c50fa",
   "metadata": {},
   "outputs": [
    {
     "data": {
      "text/html": [
       "<div>\n",
       "<style scoped>\n",
       "    .dataframe tbody tr th:only-of-type {\n",
       "        vertical-align: middle;\n",
       "    }\n",
       "\n",
       "    .dataframe tbody tr th {\n",
       "        vertical-align: top;\n",
       "    }\n",
       "\n",
       "    .dataframe thead th {\n",
       "        text-align: right;\n",
       "    }\n",
       "</style>\n",
       "<table border=\"1\" class=\"dataframe\">\n",
       "  <thead>\n",
       "    <tr style=\"text-align: right;\">\n",
       "      <th></th>\n",
       "      <th>engine_displacement</th>\n",
       "      <th>horsepower</th>\n",
       "      <th>vehicle_weight</th>\n",
       "      <th>model_year</th>\n",
       "      <th>fuel_efficiency_mpg</th>\n",
       "    </tr>\n",
       "  </thead>\n",
       "  <tbody>\n",
       "    <tr>\n",
       "      <th>483</th>\n",
       "      <td>220</td>\n",
       "      <td>144.0</td>\n",
       "      <td>2535.887591</td>\n",
       "      <td>2009</td>\n",
       "      <td>16.642943</td>\n",
       "    </tr>\n",
       "    <tr>\n",
       "      <th>7506</th>\n",
       "      <td>160</td>\n",
       "      <td>141.0</td>\n",
       "      <td>2741.170484</td>\n",
       "      <td>2019</td>\n",
       "      <td>16.298377</td>\n",
       "    </tr>\n",
       "    <tr>\n",
       "      <th>8795</th>\n",
       "      <td>230</td>\n",
       "      <td>155.0</td>\n",
       "      <td>2471.880237</td>\n",
       "      <td>2017</td>\n",
       "      <td>18.591822</td>\n",
       "    </tr>\n",
       "    <tr>\n",
       "      <th>1688</th>\n",
       "      <td>150</td>\n",
       "      <td>206.0</td>\n",
       "      <td>3748.164469</td>\n",
       "      <td>2015</td>\n",
       "      <td>11.818843</td>\n",
       "    </tr>\n",
       "    <tr>\n",
       "      <th>6217</th>\n",
       "      <td>300</td>\n",
       "      <td>111.0</td>\n",
       "      <td>2135.716359</td>\n",
       "      <td>2006</td>\n",
       "      <td>19.402209</td>\n",
       "    </tr>\n",
       "    <tr>\n",
       "      <th>4562</th>\n",
       "      <td>180</td>\n",
       "      <td>120.0</td>\n",
       "      <td>3551.398040</td>\n",
       "      <td>2013</td>\n",
       "      <td>12.145734</td>\n",
       "    </tr>\n",
       "    <tr>\n",
       "      <th>5885</th>\n",
       "      <td>210</td>\n",
       "      <td>118.0</td>\n",
       "      <td>3620.351977</td>\n",
       "      <td>2018</td>\n",
       "      <td>11.378399</td>\n",
       "    </tr>\n",
       "    <tr>\n",
       "      <th>3746</th>\n",
       "      <td>150</td>\n",
       "      <td>152.0</td>\n",
       "      <td>2524.407794</td>\n",
       "      <td>2012</td>\n",
       "      <td>16.667294</td>\n",
       "    </tr>\n",
       "    <tr>\n",
       "      <th>7109</th>\n",
       "      <td>160</td>\n",
       "      <td>151.0</td>\n",
       "      <td>2752.964230</td>\n",
       "      <td>2009</td>\n",
       "      <td>15.819367</td>\n",
       "    </tr>\n",
       "    <tr>\n",
       "      <th>2698</th>\n",
       "      <td>250</td>\n",
       "      <td>147.0</td>\n",
       "      <td>3202.856567</td>\n",
       "      <td>2020</td>\n",
       "      <td>14.100998</td>\n",
       "    </tr>\n",
       "  </tbody>\n",
       "</table>\n",
       "</div>"
      ],
      "text/plain": [
       "      engine_displacement  horsepower  vehicle_weight  model_year  \\\n",
       "483                   220       144.0     2535.887591        2009   \n",
       "7506                  160       141.0     2741.170484        2019   \n",
       "8795                  230       155.0     2471.880237        2017   \n",
       "1688                  150       206.0     3748.164469        2015   \n",
       "6217                  300       111.0     2135.716359        2006   \n",
       "4562                  180       120.0     3551.398040        2013   \n",
       "5885                  210       118.0     3620.351977        2018   \n",
       "3746                  150       152.0     2524.407794        2012   \n",
       "7109                  160       151.0     2752.964230        2009   \n",
       "2698                  250       147.0     3202.856567        2020   \n",
       "\n",
       "      fuel_efficiency_mpg  \n",
       "483             16.642943  \n",
       "7506            16.298377  \n",
       "8795            18.591822  \n",
       "1688            11.818843  \n",
       "6217            19.402209  \n",
       "4562            12.145734  \n",
       "5885            11.378399  \n",
       "3746            16.667294  \n",
       "7109            15.819367  \n",
       "2698            14.100998  "
      ]
     },
     "execution_count": 40,
     "metadata": {},
     "output_type": "execute_result"
    }
   ],
   "source": [
    "\n",
    "\n",
    "df_selected.iloc[idx[:10]]"
   ]
  },
  {
   "cell_type": "markdown",
   "id": "e34a1a08-1886-40f7-b906-037e15281a14",
   "metadata": {},
   "source": [
    "Split data into train/val/test sets, with 60%/20%/20% distribution\n"
   ]
  },
  {
   "cell_type": "code",
   "execution_count": 41,
   "id": "75cafb86-2cec-4a5c-816e-5d1b95db64e1",
   "metadata": {},
   "outputs": [],
   "source": [
    "#Split data in train/val/test sets, with 60%/20%/20% distribution\n",
    "n_val= int(0.2*n)\n",
    "n_test=int(0.2*n)\n",
    "\n",
    "n_train=n-(n_val+n_test)"
   ]
  },
  {
   "cell_type": "code",
   "execution_count": 42,
   "id": "4ab46900-8187-45ab-92aa-360414e03a35",
   "metadata": {},
   "outputs": [
    {
     "data": {
      "text/plain": [
       "(1940, 1940, 5824)"
      ]
     },
     "execution_count": 42,
     "metadata": {},
     "output_type": "execute_result"
    }
   ],
   "source": [
    "n_val, n_test, n_train"
   ]
  },
  {
   "cell_type": "code",
   "execution_count": 51,
   "id": "05808eb4-136c-438c-a162-de98d6d3d6bb",
   "metadata": {},
   "outputs": [],
   "source": [
    "df_train= df_selected.iloc[idx[n_train:]]\n",
    "df_val= df_selected.iloc[idx[n_train:n_train+n_val]]\n",
    "df_val= df_selected.iloc[idx[n_train+n_val:]]"
   ]
  },
  {
   "cell_type": "code",
   "execution_count": 52,
   "id": "5122adce-ec08-478d-aae9-75b8109345c5",
   "metadata": {},
   "outputs": [
    {
     "data": {
      "text/html": [
       "<div>\n",
       "<style scoped>\n",
       "    .dataframe tbody tr th:only-of-type {\n",
       "        vertical-align: middle;\n",
       "    }\n",
       "\n",
       "    .dataframe tbody tr th {\n",
       "        vertical-align: top;\n",
       "    }\n",
       "\n",
       "    .dataframe thead th {\n",
       "        text-align: right;\n",
       "    }\n",
       "</style>\n",
       "<table border=\"1\" class=\"dataframe\">\n",
       "  <thead>\n",
       "    <tr style=\"text-align: right;\">\n",
       "      <th></th>\n",
       "      <th>engine_displacement</th>\n",
       "      <th>horsepower</th>\n",
       "      <th>vehicle_weight</th>\n",
       "      <th>model_year</th>\n",
       "      <th>fuel_efficiency_mpg</th>\n",
       "    </tr>\n",
       "  </thead>\n",
       "  <tbody>\n",
       "    <tr>\n",
       "      <th>6163</th>\n",
       "      <td>180</td>\n",
       "      <td>112.0</td>\n",
       "      <td>2772.134410</td>\n",
       "      <td>2020</td>\n",
       "      <td>15.366341</td>\n",
       "    </tr>\n",
       "    <tr>\n",
       "      <th>3313</th>\n",
       "      <td>260</td>\n",
       "      <td>138.0</td>\n",
       "      <td>3014.061530</td>\n",
       "      <td>2022</td>\n",
       "      <td>14.601182</td>\n",
       "    </tr>\n",
       "    <tr>\n",
       "      <th>4781</th>\n",
       "      <td>140</td>\n",
       "      <td>181.0</td>\n",
       "      <td>3652.186151</td>\n",
       "      <td>2016</td>\n",
       "      <td>12.247032</td>\n",
       "    </tr>\n",
       "    <tr>\n",
       "      <th>8210</th>\n",
       "      <td>270</td>\n",
       "      <td>105.0</td>\n",
       "      <td>2753.040847</td>\n",
       "      <td>2023</td>\n",
       "      <td>15.136400</td>\n",
       "    </tr>\n",
       "    <tr>\n",
       "      <th>6713</th>\n",
       "      <td>170</td>\n",
       "      <td>224.0</td>\n",
       "      <td>4163.375137</td>\n",
       "      <td>2003</td>\n",
       "      <td>10.340419</td>\n",
       "    </tr>\n",
       "  </tbody>\n",
       "</table>\n",
       "</div>"
      ],
      "text/plain": [
       "      engine_displacement  horsepower  vehicle_weight  model_year  \\\n",
       "6163                  180       112.0     2772.134410        2020   \n",
       "3313                  260       138.0     3014.061530        2022   \n",
       "4781                  140       181.0     3652.186151        2016   \n",
       "8210                  270       105.0     2753.040847        2023   \n",
       "6713                  170       224.0     4163.375137        2003   \n",
       "\n",
       "      fuel_efficiency_mpg  \n",
       "6163            15.366341  \n",
       "3313            14.601182  \n",
       "4781            12.247032  \n",
       "8210            15.136400  \n",
       "6713            10.340419  "
      ]
     },
     "execution_count": 52,
     "metadata": {},
     "output_type": "execute_result"
    }
   ],
   "source": [
    "df_train.head()"
   ]
  },
  {
   "cell_type": "markdown",
   "id": "697baea0-4d3b-471e-b991-7604fb4c7bbd",
   "metadata": {},
   "source": [
    "### Question 3"
   ]
  },
  {
   "cell_type": "code",
   "execution_count": 60,
   "id": "e7550c8f-2e03-4542-a532-01ed224b5e12",
   "metadata": {},
   "outputs": [
    {
     "data": {
      "text/html": [
       "<div>\n",
       "<style scoped>\n",
       "    .dataframe tbody tr th:only-of-type {\n",
       "        vertical-align: middle;\n",
       "    }\n",
       "\n",
       "    .dataframe tbody tr th {\n",
       "        vertical-align: top;\n",
       "    }\n",
       "\n",
       "    .dataframe thead th {\n",
       "        text-align: right;\n",
       "    }\n",
       "</style>\n",
       "<table border=\"1\" class=\"dataframe\">\n",
       "  <thead>\n",
       "    <tr style=\"text-align: right;\">\n",
       "      <th></th>\n",
       "      <th>engine_displacement</th>\n",
       "      <th>horsepower</th>\n",
       "      <th>vehicle_weight</th>\n",
       "      <th>model_year</th>\n",
       "      <th>fuel_efficiency_mpg</th>\n",
       "    </tr>\n",
       "  </thead>\n",
       "  <tbody>\n",
       "    <tr>\n",
       "      <th>6163</th>\n",
       "      <td>180</td>\n",
       "      <td>112.0</td>\n",
       "      <td>2772.134410</td>\n",
       "      <td>2020</td>\n",
       "      <td>15.366341</td>\n",
       "    </tr>\n",
       "    <tr>\n",
       "      <th>3313</th>\n",
       "      <td>260</td>\n",
       "      <td>138.0</td>\n",
       "      <td>3014.061530</td>\n",
       "      <td>2022</td>\n",
       "      <td>14.601182</td>\n",
       "    </tr>\n",
       "    <tr>\n",
       "      <th>4781</th>\n",
       "      <td>140</td>\n",
       "      <td>181.0</td>\n",
       "      <td>3652.186151</td>\n",
       "      <td>2016</td>\n",
       "      <td>12.247032</td>\n",
       "    </tr>\n",
       "    <tr>\n",
       "      <th>8210</th>\n",
       "      <td>270</td>\n",
       "      <td>105.0</td>\n",
       "      <td>2753.040847</td>\n",
       "      <td>2023</td>\n",
       "      <td>15.136400</td>\n",
       "    </tr>\n",
       "    <tr>\n",
       "      <th>6713</th>\n",
       "      <td>170</td>\n",
       "      <td>224.0</td>\n",
       "      <td>4163.375137</td>\n",
       "      <td>2003</td>\n",
       "      <td>10.340419</td>\n",
       "    </tr>\n",
       "  </tbody>\n",
       "</table>\n",
       "</div>"
      ],
      "text/plain": [
       "      engine_displacement  horsepower  vehicle_weight  model_year  \\\n",
       "6163                  180       112.0     2772.134410        2020   \n",
       "3313                  260       138.0     3014.061530        2022   \n",
       "4781                  140       181.0     3652.186151        2016   \n",
       "8210                  270       105.0     2753.040847        2023   \n",
       "6713                  170       224.0     4163.375137        2003   \n",
       "\n",
       "      fuel_efficiency_mpg  \n",
       "6163            15.366341  \n",
       "3313            14.601182  \n",
       "4781            12.247032  \n",
       "8210            15.136400  \n",
       "6713            10.340419  "
      ]
     },
     "execution_count": 60,
     "metadata": {},
     "output_type": "execute_result"
    }
   ],
   "source": [
    "df_train.head()"
   ]
  },
  {
   "cell_type": "code",
   "execution_count": 63,
   "id": "682dfab9-fa1f-4b40-b949-7ec8852b8a51",
   "metadata": {},
   "outputs": [
    {
     "data": {
      "text/plain": [
       "array([[ 180.        ,  112.        , 2772.13441008, 2020.        ,\n",
       "          15.36634109],\n",
       "       [ 260.        ,  138.        , 3014.06152983, 2022.        ,\n",
       "          14.60118181],\n",
       "       [ 140.        ,  181.        , 3652.18615117, 2016.        ,\n",
       "          12.24703219],\n",
       "       ...,\n",
       "       [ 290.        ,  187.        , 2440.50803916, 2019.        ,\n",
       "          18.40443466],\n",
       "       [ 260.        ,  129.        , 1865.40447951, 2019.        ,\n",
       "          20.50246014],\n",
       "       [ 270.        ,  147.        , 2611.9394998 , 2017.        ,\n",
       "          16.81624056]])"
      ]
     },
     "execution_count": 63,
     "metadata": {},
     "output_type": "execute_result"
    }
   ],
   "source": [
    "X_train=df_train.values\n",
    "X_train"
   ]
  },
  {
   "cell_type": "code",
   "execution_count": 68,
   "id": "93bdfc60-aee9-491f-b180-b0bb2f81a457",
   "metadata": {},
   "outputs": [
    {
     "data": {
      "text/plain": [
       "array([15.36634109, 14.60118181, 12.24703219, ..., 18.40443466,\n",
       "       20.50246014, 16.81624056])"
      ]
     },
     "execution_count": 68,
     "metadata": {},
     "output_type": "execute_result"
    }
   ],
   "source": [
    "y_train=y_train = df_train[\"fuel_efficiency_mpg\"].values\n",
    "y_train"
   ]
  },
  {
   "cell_type": "code",
   "execution_count": 74,
   "id": "0bf6bc53-432c-429f-a9a1-526bd5c92320",
   "metadata": {},
   "outputs": [],
   "source": [
    "def train_linear_regression(X_train, y_train):\n",
    "    ones = np.ones(X_train.shape[0])\n",
    "    X = np.column_stack([ones, X_train])  \n",
    "\n",
    "    XTX = X.T.dot(X)                      \n",
    "    XTX_inv = np.linalg.inv(XTX)\n",
    "\n",
    "    w_full = XTX_inv.dot(X.T).dot(y_train)\n",
    "\n",
    "    return w_full[0], w_full[1:]         \n"
   ]
  },
  {
   "cell_type": "code",
   "execution_count": 75,
   "id": "8f521bab-ca6d-4897-95e9-4becbc7209bb",
   "metadata": {},
   "outputs": [
    {
     "data": {
      "text/plain": [
       "(np.float64(nan), array([nan, nan, nan, nan, nan]))"
      ]
     },
     "execution_count": 75,
     "metadata": {},
     "output_type": "execute_result"
    }
   ],
   "source": [
    "train_linear_regression(X_train,y_train)"
   ]
  },
  {
   "cell_type": "markdown",
   "id": "f3490020-05c6-4560-b5f8-b0e583c7d294",
   "metadata": {},
   "source": [
    "Filling mising values with zeros"
   ]
  },
  {
   "cell_type": "code",
   "execution_count": 79,
   "id": "24e6dfb7-8a98-403c-8471-70c9e4f4a74e",
   "metadata": {},
   "outputs": [],
   "source": [
    "X_train=df_train.fillna(0)"
   ]
  },
  {
   "cell_type": "code",
   "execution_count": 82,
   "id": "ada3033c-2fde-43a5-8d02-1e95b0b6f81c",
   "metadata": {},
   "outputs": [
    {
     "data": {
      "text/plain": [
       "(np.float64(-3.452598207331903e-10),\n",
       " array([-9.05525654e-16, -3.64291930e-17, -8.67361738e-18, -4.80761264e-14,\n",
       "         1.00000000e+00]))"
      ]
     },
     "execution_count": 82,
     "metadata": {},
     "output_type": "execute_result"
    }
   ],
   "source": [
    "train_linear_regression(X_train,y_train)"
   ]
  },
  {
   "cell_type": "code",
   "execution_count": 83,
   "id": "a3a45b8e-8ebf-409a-b0f3-34fb6265c3cb",
   "metadata": {},
   "outputs": [],
   "source": [
    "w0,w=train_linear_regression(X_train,y_train)"
   ]
  },
  {
   "cell_type": "code",
   "execution_count": 84,
   "id": "ed1094d1-b81b-4707-9fbb-6d8ddeee7a71",
   "metadata": {},
   "outputs": [],
   "source": [
    "y_pred=w0+X_train.dot(w)\n"
   ]
  },
  {
   "cell_type": "code",
   "execution_count": 102,
   "id": "80a3dd06-03b1-4fd5-bb98-e7726cc1c21d",
   "metadata": {},
   "outputs": [
    {
     "data": {
      "image/png": "[encoded data removed]",
      "text/plain": [
       "<Figure size 640x480 with 1 Axes>"
      ]
     },
     "metadata": {},
     "output_type": "display_data"
    },
    {
     "data": {
      "image/png": "[encoded data removed]",
      "text/plain": [
       "<Figure size 640x480 with 1 Axes>"
      ]
     },
     "metadata": {},
     "output_type": "display_data"
    }
   ],
   "source": [
    "sns.histplot(y_pred, color='red')\n",
    "plt.show()\n",
    "sns.histplot(y_train, color='blue')\n",
    "plt.show()"
   ]
  },
  {
   "cell_type": "markdown",
   "id": "404be38d-6b0a-4a30-ade1-be67ebae1cce",
   "metadata": {},
   "source": [
    "Fill missing values with the mean"
   ]
  },
  {
   "cell_type": "code",
   "execution_count": 89,
   "id": "225383d9-1987-411c-b4f8-01d9b17c84ec",
   "metadata": {},
   "outputs": [
    {
     "data": {
      "text/plain": [
       "engine_displacement      0\n",
       "horsepower             279\n",
       "vehicle_weight           0\n",
       "model_year               0\n",
       "fuel_efficiency_mpg      0\n",
       "dtype: int64"
      ]
     },
     "execution_count": 89,
     "metadata": {},
     "output_type": "execute_result"
    }
   ],
   "source": [
    "df_train.isnull().sum()"
   ]
  },
  {
   "cell_type": "code",
   "execution_count": 142,
   "id": "aabfe06c-3b82-4600-8b8b-2c8e0b0a024a",
   "metadata": {},
   "outputs": [],
   "source": [
    "fill_mean=df_train[\"horsepower\"].mean()"
   ]
  },
  {
   "cell_type": "code",
   "execution_count": 143,
   "id": "e77641a5-6748-494a-b502-46dc0a8ca796",
   "metadata": {},
   "outputs": [],
   "source": [
    "X_train=df_train.fillna(fill_mean)"
   ]
  },
  {
   "cell_type": "code",
   "execution_count": 146,
   "id": "e61ac1ce-e4e6-4403-bb76-11dd79facb81",
   "metadata": {},
   "outputs": [
    {
     "data": {
      "text/plain": [
       "(np.float64(-2.1252333226584597e-10),\n",
       " array([-1.58545052e-14, -6.66428718e-14, -6.93889390e-18,  1.01191625e-13,\n",
       "         1.00000000e+00]))"
      ]
     },
     "execution_count": 146,
     "metadata": {},
     "output_type": "execute_result"
    }
   ],
   "source": [
    "\n",
    "train_linear_regression(X_train,y_train)"
   ]
  },
  {
   "cell_type": "code",
   "execution_count": 145,
   "id": "f0614f33-7f69-493a-8fa8-577098b08825",
   "metadata": {},
   "outputs": [],
   "source": [
    "w0,w=train_linear_regression(X_train,y_train)"
   ]
  },
  {
   "cell_type": "code",
   "execution_count": 97,
   "id": "5d8a3349-2e65-467a-9f6e-42e2305df611",
   "metadata": {},
   "outputs": [],
   "source": [
    "y_pred=w0+X_train.dot(w)\n"
   ]
  },
  {
   "cell_type": "code",
   "execution_count": 103,
   "id": "619f3770-3eba-4520-8a0d-230198f3b661",
   "metadata": {},
   "outputs": [
    {
     "data": {
      "image/png": "[encoded data removed]",
      "text/plain": [
       "<Figure size 640x480 with 1 Axes>"
      ]
     },
     "metadata": {},
     "output_type": "display_data"
    },
    {
     "data": {
      "image/png": "[encoded data removed]",
      "text/plain": [
       "<Figure size 640x480 with 1 Axes>"
      ]
     },
     "metadata": {},
     "output_type": "display_data"
    }
   ],
   "source": [
    "sns.histplot(y_pred, color='green')\n",
    "plt.show()\n",
    "\n",
    "sns.histplot(y_train, color='brown')\n",
    "plt.show()"
   ]
  },
  {
   "cell_type": "code",
   "execution_count": 154,
   "id": "beba2805-4a29-44ec-a367-7d4a801631f1",
   "metadata": {},
   "outputs": [],
   "source": [
    "def rmse(y, y_pred):\n",
    "    se = (y_pred - y)**2\n",
    "    mse = se.mean()\n",
    "    \n",
    "    return np.sqrt(mse)\n",
    "    "
   ]
  },
  {
   "cell_type": "code",
   "execution_count": 158,
   "id": "3b174762-962f-48e7-8285-3526c6f5c41c",
   "metadata": {},
   "outputs": [
    {
     "ename": "ValueError",
     "evalue": "operands could not be broadcast together with shapes (1940,) (3880,) ",
     "output_type": "error",
     "traceback": [
      "\u001b[1;31m---------------------------------------------------------------------------\u001b[0m",
      "\u001b[1;31mValueError\u001b[0m                                Traceback (most recent call last)",
      "Cell \u001b[1;32mIn[158], line 1\u001b[0m\n\u001b[1;32m----> 1\u001b[0m rmse(y_train, y_pred)\n",
      "Cell \u001b[1;32mIn[154], line 2\u001b[0m, in \u001b[0;36mrmse\u001b[1;34m(y, y_pred)\u001b[0m\n\u001b[0;32m      1\u001b[0m \u001b[38;5;28;01mdef\u001b[39;00m\u001b[38;5;250m \u001b[39m\u001b[38;5;21mrmse\u001b[39m(y, y_pred):\n\u001b[1;32m----> 2\u001b[0m     se \u001b[38;5;241m=\u001b[39m (y_pred \u001b[38;5;241m-\u001b[39m y)\u001b[38;5;241m*\u001b[39m\u001b[38;5;241m*\u001b[39m\u001b[38;5;241m2\u001b[39m\n\u001b[0;32m      3\u001b[0m     mse \u001b[38;5;241m=\u001b[39m se\u001b[38;5;241m.\u001b[39mmean()\n\u001b[0;32m      4\u001b[0m     \u001b[38;5;28;01mreturn\u001b[39;00m np\u001b[38;5;241m.\u001b[39msqrt(mse)\n",
      "\u001b[1;31mValueError\u001b[0m: operands could not be broadcast together with shapes (1940,) (3880,) "
     ]
    }
   ],
   "source": [
    "rmse(y_train, y_pred)# I don't know the root of this problem. The code used to run perfectly but it's giving me an error now. The value of the RMSE was around 1.1e-11"
   ]
  },
  {
   "cell_type": "code",
   "execution_count": 151,
   "id": "3f4506b5-c28e-4b3e-8258-1ce726e31f61",
   "metadata": {},
   "outputs": [],
   "source": [
    "def prepare_X(df):\n",
    "    df_num=df[selected_columns]\n",
    "    df_num= df_num.fillna(0)\n",
    "    X=df_num.values\n",
    "    return X\n"
   ]
  },
  {
   "cell_type": "code",
   "execution_count": 160,
   "id": "95a56d04-521c-49b0-b96a-96bdf1be37b7",
   "metadata": {},
   "outputs": [
    {
     "data": {
      "text/plain": [
       "np.float64(0.0)"
      ]
     },
     "execution_count": 160,
     "metadata": {},
     "output_type": "execute_result"
    }
   ],
   "source": [
    "X_train=prepare_X(df_train)\n",
    "w0,w=train_linear_regression(X_train,y_train)\n",
    "\n",
    "X_val=prepare_X(df_val)\n",
    "y_pred=w0+X_val.dot(w)\n",
    "\n",
    "y_val = df_val[\"fuel_efficiency_mpg\"].values\n",
    "\n",
    "rmse_val=rmse(y_val,y_pred)\n",
    "round(rmse_val,2)\n",
    "\n"
   ]
  },
  {
   "cell_type": "code",
   "execution_count": null,
   "id": "1acb7ffb-ac66-4b82-b1d1-c80e4653b92d",
   "metadata": {},
   "outputs": [],
   "source": [
    "\n"
   ]
  }
 ],
 "metadata": {
  "kernelspec": {
   "display_name": "Python [conda env:base] *",
   "language": "python",
   "name": "conda-base-py"
  },
  "language_info": {
   "codemirror_mode": {
    "name": "ipython",
    "version": 3
   },
   "file_extension": ".py",
   "mimetype": "text/x-python",
   "name": "python",
   "nbconvert_exporter": "python",
   "pygments_lexer": "ipython3",
   "version": "3.13.5"
  }
 },
 "nbformat": 4,
 "nbformat_minor": 5
}
